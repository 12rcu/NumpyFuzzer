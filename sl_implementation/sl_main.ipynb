{
 "cells": [
  {
   "cell_type": "code",
   "execution_count": 2,
   "id": "94655a8b-abbb-4652-ab2a-8ce630f4bb6f",
   "metadata": {},
   "outputs": [
    {
     "name": "stdout",
     "output_type": "stream",
     "text": [
      "Fuzzed method: <ufunc 'exp'>, Result: (CompletedProcess(args=(None,), returncode=1), 'Exception: loop of ufunc does not support argument 0 of type NoneType which has no callable exp method')\n",
      "Fuzzed method: <ufunc 'log10'>, Result: (CompletedProcess(args=(None,), returncode=1), 'Exception: loop of ufunc does not support argument 0 of type NoneType which has no callable log10 method')\n",
      "Result: (CompletedProcess(args='np.subtract(np.array([50.03808250429868, 63.093023644187326, 59.499892652212814, 57.14644691613763]), np.array([37.92171911231404, 89.88393128516641, 9.710211999613449, 86.41231175275503, 34.91016446509505, 34.835648170149035, 11.476124071976246, 94.96559133404028, 47.84250605572606, 58.84366767819902]))', returncode=1), 'Exception: operands could not be broadcast together with shapes (4,) (10,) ')\n",
      "Result: (CompletedProcess(args='np.matmul(np.array([97.71825398916036, 31.345144920534906]), np.array([66.27676915779169, 97.42994625867134, 3.130125113377702, 15.337347645383447, 87.3946745545495]))', returncode=1), 'Exception: matmul: Input operand 1 has a mismatch in its core dimension 0, with gufunc signature (n?,k),(k,m?)->(n?,m?) (size 5 is different from 2)')\n",
      "Result: (CompletedProcess(args='np.matmul(np.array([93.17288440412501, 25.85071143860411, 25.143306746332193, 32.81118242003021, 51.093749175374214, 52.216714690266606]), np.array([48.90421535431461, 82.61429500211268]))', returncode=1), 'Exception: matmul: Input operand 1 has a mismatch in its core dimension 0, with gufunc signature (n?,k),(k,m?)->(n?,m?) (size 2 is different from 6)')\n",
      "---------------Fuzzing Book GrammarFuzzer:----------------\n",
      "[(CompletedProcess(args='np.subtract(32, 28.12)', returncode=0), 'Success: 3.879999999999999'), (CompletedProcess(args='np.exp(86)', returncode=0), 'Success: 2.235246603734715e+37'), (CompletedProcess(args='np.matmul(np.array([8.221164314321005]), np.array([61.92021264686404]))', returncode=0), 'Success: 509.0562425475668'), (CompletedProcess(args='np.divide(np.array([40.741465044040325, 73.4401202053089, 86.6361494004772, 6.9511959474151785, 0.45236438160503045, 6.748222361008571]), 28)', returncode=0), 'Success: [1.45505232 2.62286144 3.09414819 0.248257   0.01615587 0.24100794]'), (CompletedProcess(args='np.add(41, 88.07)', returncode=0), 'Success: 129.07'), (CompletedProcess(args='np.matmul(np.array([51.62142397615273, 87.40796200449392, 84.02813336335693, 80.81666275546449, 47.02121769630047]), np.array([3.95746725787276, 22.73787045303226, 11.911132900941467, 3.917596627813358, 26.07292792863015, 21.171918213424036, 72.92817642658066, 93.4707610218939, 72.1610680566044, 26.77198287072603]))', returncode=1), 'Exception: matmul: Input operand 1 has a mismatch in its core dimension 0, with gufunc signature (n?,k),(k,m?)->(n?,m?) (size 10 is different from 5)'), (CompletedProcess(args='np.multiply(np.array([84.13661991965957, 81.97756194460966, 72.91926877426829, 5.294122217513053]), np.array([73.84395640009159, 49.567820325757395, 9.577061958521238, 77.83054530987785, 90.28752351774652, 69.19547672566036]))', returncode=1), 'Exception: operands could not be broadcast together with shapes (4,) (6,) '), (CompletedProcess(args='np.exp(41.9)', returncode=0), 'Success: 1.5737610473400525e+18'), (CompletedProcess(args='np.exp(2)', returncode=0), 'Success: 7.38905609893065'), (CompletedProcess(args='np.subtract(np.array([51.62142397615273, 87.40796200449392, 84.02813336335693, 80.81666275546449, 47.02121769630047]), 88.07)', returncode=0), 'Success: [-36.44857602  -0.662038    -4.04186664  -7.25333724 -41.0487823 ]'), (CompletedProcess(args='np.divide(41, np.array([37.92171911231404, 89.88393128516641, 9.710211999613449, 86.41231175275503, 34.91016446509505, 34.835648170149035, 11.476124071976246, 94.96559133404028, 47.84250605572606, 58.84366767819902]))', returncode=0), 'Success: [1.08117461 0.45614382 4.22235889 0.47446943 1.17444305 1.17695528\\n 3.57263478 0.43173532 0.85697852 0.69676146]'), (CompletedProcess(args='np.multiply(np.array([59.925873524392706, 28.43973260806505, 61.945492491514756, 0.676958887270529, 93.70460066113263, 81.0249749405242]), 85.46)', returncode=0), 'Success: [5121.26515139 2430.45954869 5293.86178832   57.85290651 8007.9951725\\n 6924.39435842]'), (CompletedProcess(args='np.add(71, 31.16)', returncode=0), 'Success: 102.16'), (CompletedProcess(args='np.subtract(36, 9.62)', returncode=0), 'Success: 26.380000000000003'), (CompletedProcess(args='np.multiply(np.array([89.02564288722473, 45.089429719671635, 41.491954119063244, 28.649715299585733, 36.574025280999614, 76.34468118289496, 75.01301555467663, 92.34115765626288]), 13)', returncode=0), 'Success: [1157.33335753  586.16258636  539.39540355  372.44629889  475.46232865\\n  992.48085538  975.16920221 1200.43504953]'), (CompletedProcess(args='np.subtract(1.39, 13)', returncode=0), 'Success: -11.61'), (CompletedProcess(args='np.matmul(np.array([52.20277453022392, 7.950536433218436, 18.839433806043715]), np.array([33.65818112181093, 9.433696695217876, 31.70217000837674, 91.6713167163829, 29.251465950221835, 39.719421630931464]))', returncode=1), 'Exception: matmul: Input operand 1 has a mismatch in its core dimension 0, with gufunc signature (n?,k),(k,m?)->(n?,m?) (size 6 is different from 3)'), (CompletedProcess(args='np.matmul(np.array([52.20277453022392, 7.950536433218436, 18.839433806043715]), np.array([92.87888781569816, 10.15674154728643, 60.22728830013394, 5.557257328628462, 72.89287906697474, 70.51851407303509, 13.080512332135818, 1.5589648963393765, 63.5097471465079, 55.96704717248343]))', returncode=1), 'Exception: matmul: Input operand 1 has a mismatch in its core dimension 0, with gufunc signature (n?,k),(k,m?)->(n?,m?) (size 10 is different from 3)'), (CompletedProcess(args='np.divide(np.array([88.03624120700984, 49.52169850169508, 44.66845417734532, 7.772802244147048, 33.91415247832706, 42.596789408376026, 36.80315527382969]), 42.72)', returncode=0), 'Success: [2.06077344 1.15921579 1.04560988 0.18194762 0.79387061 0.99711586\\n 0.86149708]'), (CompletedProcess(args='np.subtract(66.21, 78.99)', returncode=0), 'Success: -12.780000000000001'), (CompletedProcess(args='np.divide(np.array([59.925873524392706, 28.43973260806505, 61.945492491514756, 0.676958887270529, 93.70460066113263, 81.0249749405242]), np.array([26.02035356210014, 82.9628892293549, 16.896523583931465, 89.42830603526197, 30.904125447850106]))', returncode=1), 'Exception: operands could not be broadcast together with shapes (6,) (5,) '), (CompletedProcess(args='np.add(59.41, np.array([38.98612159264698, 77.14211155810557, 1.5327141483775786]))', returncode=0), 'Success: [ 98.39612159 136.55211156  60.94271415]')]\n"
     ]
    },
    {
     "name": "stderr",
     "output_type": "stream",
     "text": [
      "<string>:1: RuntimeWarning: divide by zero encountered in divide\n"
     ]
    }
   ],
   "source": [
    "#!/usr/bin/env python3\n",
    "\"\"\"\n",
    "Module Docstring\n",
    "\"\"\"\n",
    "import numpy as np\n",
    "from fuzzingbook.GrammarFuzzer import *\n",
    "\n",
    "import ValuePoolFuzzer as v\n",
    "import GrammarFuzzer as g\n",
    "\n",
    "import ValuePoolRunner as vr\n",
    "import GrammarRunner as gr\n",
    "\n",
    "__author__ = \"Your Name\"\n",
    "__version__ = \"0.1.0\"\n",
    "__license__ = \"MIT\"\n",
    "\n",
    "\n",
    "def main():\n",
    "    TRIALS = 22\n",
    "    exp_runner = vr.ValuePoolRunner(np.exp, [any])\n",
    "    log10_runner = vr.ValuePoolRunner(np.log10, [any])\n",
    "    vp_fuzzer = v.ValuePoolFuzzer()\n",
    "    vp_fuzzer.runs(exp_runner, TRIALS, print_successful=False)\n",
    "    vp_fuzzer.runs(log10_runner, TRIALS, print_successful=False)\n",
    "\n",
    "    g_runner = gr.GrammarRunner()\n",
    "    g_fuzzer = g.GrammarFuzzer(g.UFUNC_GRAMMAR)\n",
    "    g_fuzzer.runs(g_runner, trials=TRIALS, print_successful=False)\n",
    "\n",
    "    print(\"---------------Fuzzing Book GrammarFuzzer:----------------\")\n",
    "    fpg_fuzzer = GrammarFuzzer(g.UFUNC_GRAMMAR)\n",
    "    print(fpg_fuzzer.runs(g_runner, TRIALS))\n",
    "\n",
    "if __name__ == \"__main__\":\n",
    "    \"\"\" This is executed when run from the command line \"\"\"\n",
    "    main()\n"
   ]
  },
  {
   "cell_type": "code",
   "execution_count": null,
   "id": "a238232e-ea2e-4a9b-9ae2-c3d09defeab2",
   "metadata": {},
   "outputs": [],
   "source": []
  },
  {
   "cell_type": "code",
   "execution_count": null,
   "id": "2ac0dfd5-a906-4a94-b19d-306358ed3497",
   "metadata": {},
   "outputs": [],
   "source": []
  }
 ],
 "metadata": {
  "kernelspec": {
   "display_name": "Python 3 (ipykernel)",
   "language": "python",
   "name": "python3"
  },
  "language_info": {
   "codemirror_mode": {
    "name": "ipython",
    "version": 3
   },
   "file_extension": ".py",
   "mimetype": "text/x-python",
   "name": "python",
   "nbconvert_exporter": "python",
   "pygments_lexer": "ipython3",
   "version": "3.11.8"
  }
 },
 "nbformat": 4,
 "nbformat_minor": 5
}
