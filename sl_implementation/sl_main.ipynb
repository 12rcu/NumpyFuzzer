{
 "cells": [
  {
   "cell_type": "code",
   "execution_count": 1,
   "id": "94655a8b-abbb-4652-ab2a-8ce630f4bb6f",
   "metadata": {},
   "outputs": [
    {
     "name": "stdout",
     "output_type": "stream",
     "text": [
      "---------------My ValuePoolFuzzer:----------------\n",
      "Fuzzed method: <ufunc 'exp'>, Result: (CompletedProcess(args=(None,), returncode=1), 'Exception: loop of ufunc does not support argument 0 of type NoneType which has no callable exp method')\n",
      "Fuzzed method: <ufunc 'log10'>, Result: (CompletedProcess(args=(None,), returncode=1), 'Exception: loop of ufunc does not support argument 0 of type NoneType which has no callable log10 method')\n",
      "---------------My GrammarFuzzer:----------------\n",
      "Result: (CompletedProcess(args='np.subtract(np.array([46.59070649359279, -30.04950192615688, 11.747601381327783, -28.609377041737204, -49.03824013019224, -16.254619121382262]), np.array([-11.80382223184347, 38.56800740448165, -19.08968363930184, 28.45883509380488, -88.5427778727105, -25.881978833804425, -99.13604358904584, 31.340701091798024, 46.99199954980787]))', returncode=1), 'Exception: operands could not be broadcast together with shapes (6,) (9,) ')\n",
      "Result: (CompletedProcess(args='np.matmul(np.array([64.46537230905992, -84.36539300071118]), np.array([-39.69995191182028]))', returncode=1), 'Exception: matmul: Input operand 1 has a mismatch in its core dimension 0, with gufunc signature (n?,k),(k,m?)->(n?,m?) (size 1 is different from 2)')\n",
      "Result: (CompletedProcess(args='np.matmul(np.array([68.03017989566078, -53.74733168389281, 35.477543421129894, -89.78155858136245, -72.03032621313427, -76.29594616959514, -84.66954702932172]), np.array([54.67330637493541, -44.007739554885525]))', returncode=1), 'Exception: matmul: Input operand 1 has a mismatch in its core dimension 0, with gufunc signature (n?,k),(k,m?)->(n?,m?) (size 2 is different from 7)')\n",
      "Result: (CompletedProcess(args='np.multiply(np.array([-37.52265141216553, 85.1854377165277, 90.5762420498377]), np.array([99.78304719211656, -52.7902345195443, -46.012482261346136, 41.34281672051699, 83.49834704650036, 27.231573539621095, 39.78665564215109, -14.274417832252567, -32.173572995784866, 96.67394112043121]))', returncode=1), 'Exception: operands could not be broadcast together with shapes (3,) (10,) ')\n",
      "Result: (CompletedProcess(args='np.subtract(np.array([-55.60429501960691, -94.42121533696275, 33.625774355329696, 60.41300354794285, 25.920918670615592, -30.24892179152259, 18.744578348590267]), np.array([-49.407591999350316, -79.98561820051629]))', returncode=1), 'Exception: operands could not be broadcast together with shapes (7,) (2,) ')\n",
      "Result: (CompletedProcess(args='np.matmul(np.array([45.18220321045959, 68.7921697759831]), np.array([94.49797911204934, 8.375067396860786, -54.81224832402416, 45.41672020324475, 15.962120353819103, 0.07208887885892068, -23.60110980444378, 97.48279824598552, -62.81783539012977]))', returncode=1), 'Exception: matmul: Input operand 1 has a mismatch in its core dimension 0, with gufunc signature (n?,k),(k,m?)->(n?,m?) (size 9 is different from 2)')\n",
      "Result: (CompletedProcess(args='np.matmul(np.array([80.26953594967529, -46.01859229083753, 33.95653757650189, -87.83092603120454, -54.112972988386176, -83.65929437158756, -13.110058470745841, -8.610509997222266, 52.81071814433099, 88.70235191696932]), np.array([-62.93890951746843, 82.59337166092175, 9.160793546340898, 36.066909363165024]))', returncode=1), 'Exception: matmul: Input operand 1 has a mismatch in its core dimension 0, with gufunc signature (n?,k),(k,m?)->(n?,m?) (size 4 is different from 10)')\n",
      "Result: (CompletedProcess(args='np.matmul(np.array([-26.0578909320826, -33.578170904788536, 47.216720895802325, 54.128106530763006, -75.96142495524099]), np.array([-78.07426690649173, 70.27341169345962, -94.25793264838227, 15.882256983245611, 85.15708086665177, 95.30589217187702, -58.62693829476855, 26.37338234228757]))', returncode=1), 'Exception: matmul: Input operand 1 has a mismatch in its core dimension 0, with gufunc signature (n?,k),(k,m?)->(n?,m?) (size 8 is different from 5)')\n",
      "Result: (CompletedProcess(args='np.matmul(np.array([-41.21748378713814, 93.50464036340753, -31.053413937577304, -83.49349368462096]), np.array([91.79492743662453, -50.43579083167475, -11.764482591305764, -33.149035033149545, 77.9179830695783, -85.43482705581154, -87.46537000015297, -67.86141091783269, 21.381004503149853, -18.069251936413536]))', returncode=1), 'Exception: matmul: Input operand 1 has a mismatch in its core dimension 0, with gufunc signature (n?,k),(k,m?)->(n?,m?) (size 10 is different from 4)')\n",
      "Result: (CompletedProcess(args='np.matmul(np.array([-59.71060306976914, -28.240875731908346, -92.18277471384675, 13.042169085404367, -42.0008593805725]), np.array([12.413414439523507, 69.00648543677221, 57.52159382743116, 6.865814951373309, -16.244531898746402, -19.625321204473238, -87.42348337204697]))', returncode=1), 'Exception: matmul: Input operand 1 has a mismatch in its core dimension 0, with gufunc signature (n?,k),(k,m?)->(n?,m?) (size 7 is different from 5)')\n",
      "Result: (CompletedProcess(args='np.matmul(np.array([-77.44590698357581, -48.86761042092238, 42.16872558769717, 6.608887862680746]), np.array([-26.0578909320826, -33.578170904788536, 47.216720895802325, 54.128106530763006, -75.96142495524099]))', returncode=1), 'Exception: matmul: Input operand 1 has a mismatch in its core dimension 0, with gufunc signature (n?,k),(k,m?)->(n?,m?) (size 5 is different from 4)')\n",
      "Result: (CompletedProcess(args='np.matmul(np.array([35.04651805276251, -1.8451888070618878, 71.83103513897547, 45.019569780494635, 23.295867205532048, -71.61837863891292, -88.29308771953252, -50.339956606903826, 47.935580043718886]), np.array([32.48547081234207, -2.6898218234629354, -68.13065789676122, -2.9452338938945104, 85.82764973025863, -49.42606203156312]))', returncode=1), 'Exception: matmul: Input operand 1 has a mismatch in its core dimension 0, with gufunc signature (n?,k),(k,m?)->(n?,m?) (size 6 is different from 9)')\n",
      "Result: (CompletedProcess(args='np.matmul(np.array([81.81278335797379, -49.79751102574576, -92.62741814438715, -94.17592308688513]), np.array([80.74415273802643, -33.01776152872635, 26.910590701438537]))', returncode=1), 'Exception: matmul: Input operand 1 has a mismatch in its core dimension 0, with gufunc signature (n?,k),(k,m?)->(n?,m?) (size 3 is different from 4)')\n",
      "Result: (CompletedProcess(args='np.matmul(np.array([-26.0578909320826, -33.578170904788536, 47.216720895802325, 54.128106530763006, -75.96142495524099]), np.array([-12.698686877407312, -2.5232025970591394, -92.09032982271141, 55.16272390624971, -34.705976941663025, -27.534919568923073, -2.794338667279888, -17.758359541990743, -62.44226049388792, -98.04354520206272]))', returncode=1), 'Exception: matmul: Input operand 1 has a mismatch in its core dimension 0, with gufunc signature (n?,k),(k,m?)->(n?,m?) (size 10 is different from 5)')\n",
      "Result: (CompletedProcess(args='np.divide(np.array([-44.03284280203765, -36.09378657758917, 39.93234391749681, 60.538441321554245, 41.120479751760485, 91.21688557725079]), np.array([96.75482453824412, -96.6039224519087, 11.68408353198285, 55.21622543755069, 97.15273264926151, 93.78011975945864, 25.76551571814811, 37.72163769493545, 64.04697711741042, 37.53788807176997]))', returncode=1), 'Exception: operands could not be broadcast together with shapes (6,) (10,) ')\n",
      "Result: (CompletedProcess(args='np.matmul(np.array([-89.05200188281354, -34.275998888560764, -8.4488592867296, -81.59676248246859, 3.3358033696556504]), np.array([-77.44590698357581, -48.86761042092238, 42.16872558769717, 6.608887862680746]))', returncode=1), 'Exception: matmul: Input operand 1 has a mismatch in its core dimension 0, with gufunc signature (n?,k),(k,m?)->(n?,m?) (size 4 is different from 5)')\n",
      "Result: (CompletedProcess(args='np.matmul(np.array([88.91707611972205, 14.570547367673399, -89.06139737279841, -29.698573470216246, -70.6137710677917]), np.array([-5.460895512351982, -31.402531585003388, 84.10692639248248, 47.65247091257726, -10.495776462991643, 69.13825406007822, 31.927384508589057, 53.912910149826274, 69.27944283456216, 53.420314663131904]))', returncode=1), 'Exception: matmul: Input operand 1 has a mismatch in its core dimension 0, with gufunc signature (n?,k),(k,m?)->(n?,m?) (size 10 is different from 5)')\n",
      "Result: (CompletedProcess(args='np.matmul(np.array([13.167637089914038, 46.15062940506533, 6.297541872231989, -55.01791763105241, 5.383424250146291, -55.90262419128776]), np.array([-89.05200188281354, -34.275998888560764, -8.4488592867296, -81.59676248246859, 3.3358033696556504]))', returncode=1), 'Exception: matmul: Input operand 1 has a mismatch in its core dimension 0, with gufunc signature (n?,k),(k,m?)->(n?,m?) (size 5 is different from 6)')\n",
      "Result: (CompletedProcess(args='np.multiply(np.array([89.40189816120366, 2.732369096401243, -31.762334393518927, 53.1592787829685, -47.452837822185344, -46.497559908711025, 32.42309566018645]), np.array([-55.05940903918729, -52.12809715839843, -73.71911493313563, 52.66950156963307, 58.27053612203946, -60.65462367926144, -45.269481497923806, -25.155472680677818, -9.838543563143503, -81.96849471933714]))', returncode=1), 'Exception: operands could not be broadcast together with shapes (7,) (10,) ')\n",
      "Result: (CompletedProcess(args='np.matmul(np.array([43.69525149813066, -13.45571594528792, 72.14556559563684, 85.02623482127919, 59.774675036220884, 22.11781801275636, 52.85753873715424, 96.78932379653179]), np.array([-92.24436674660492, 18.96661646695381, -57.049233285543785, -11.310624046525717, -28.825370104715134, -79.50135660371389, -39.50917602851742]))', returncode=1), 'Exception: matmul: Input operand 1 has a mismatch in its core dimension 0, with gufunc signature (n?,k),(k,m?)->(n?,m?) (size 7 is different from 8)')\n",
      "Result: (CompletedProcess(args='np.subtract(np.array([53.871826316731216, -34.422884406147844, 51.373299125982214, -50.81523948513895, -48.45133703056332]), np.array([13.167637089914038, 46.15062940506533, 6.297541872231989, -55.01791763105241, 5.383424250146291, -55.90262419128776]))', returncode=1), 'Exception: operands could not be broadcast together with shapes (5,) (6,) ')\n",
      "Result: (CompletedProcess(args='np.multiply(np.array([-93.45093720157074, -43.30852859787375, 19.04963170605909, 41.480096796685274, 40.91249378149638, 46.555445633673145, -11.74566425209278, 71.30178451666501, -75.25615562763764, 73.46023075520267]), np.array([46.59070649359279, -30.04950192615688, 11.747601381327783, -28.609377041737204, -49.03824013019224, -16.254619121382262]))', returncode=1), 'Exception: operands could not be broadcast together with shapes (10,) (6,) ')\n",
      "Result: (CompletedProcess(args='np.multiply(np.array([-49.407591999350316, -79.98561820051629]), np.array([-50.22848557416779, -33.13887685220985, -80.17634323679808, 46.19101317749971, -54.32396102715762, 20.379626095645094, 58.370779583256024, 85.99152633077838, -37.47940078329328]))', returncode=1), 'Exception: operands could not be broadcast together with shapes (2,) (9,) ')\n",
      "Result: (CompletedProcess(args='np.matmul(np.array([51.50508989906922, 85.66164343597833]), np.array([-31.096052664579574]))', returncode=1), 'Exception: matmul: Input operand 1 has a mismatch in its core dimension 0, with gufunc signature (n?,k),(k,m?)->(n?,m?) (size 1 is different from 2)')\n"
     ]
    },
    {
     "name": "stderr",
     "output_type": "stream",
     "text": [
      "/home/jovyan/Software_Sec_Testing/NumpyFuzzer/sl_implementation/ValuePoolRunner.py:13: RuntimeWarning: overflow encountered in exp\n",
      "  result = self.method(*args)\n",
      "/home/jovyan/Software_Sec_Testing/NumpyFuzzer/sl_implementation/ValuePoolRunner.py:13: RuntimeWarning: divide by zero encountered in log10\n",
      "  result = self.method(*args)\n",
      "/home/jovyan/Software_Sec_Testing/NumpyFuzzer/sl_implementation/ValuePoolRunner.py:13: RuntimeWarning: invalid value encountered in log10\n",
      "  result = self.method(*args)\n",
      "<string>:1: RuntimeWarning: divide by zero encountered in divide\n"
     ]
    }
   ],
   "source": [
    "#!/usr/bin/env python3\n",
    "\"\"\"\n",
    "Module Docstring\n",
    "\"\"\"\n",
    "import numpy as np\n",
    "from fuzzingbook.GrammarFuzzer import *\n",
    "\n",
    "import ValuePoolFuzzer as v\n",
    "import GrammarFuzzer as g\n",
    "\n",
    "import ValuePoolRunner as vr\n",
    "import GrammarRunner as gr\n",
    "\n",
    "__author__ = \"Sebastian Lommen\"\n",
    "__version__ = \"0.1.0\"\n",
    "__license__ = \"MIT\"\n",
    "\n",
    "\n",
    "def main():\n",
    "    TRIALS = 22\n",
    "    print(\"---------------My ValuePoolFuzzer:----------------\")\n",
    "    exp_runner = vr.ValuePoolRunner(np.exp, [any])\n",
    "    log10_runner = vr.ValuePoolRunner(np.log10, [any])\n",
    "    vp_fuzzer = v.ValuePoolFuzzer()\n",
    "    vp_fuzzer.runs(exp_runner, TRIALS, print_successful=False)\n",
    "    vp_fuzzer.runs(log10_runner, TRIALS, print_successful=False)\n",
    "\n",
    "    print(\"---------------My GrammarFuzzer:----------------\")\n",
    "    g_runner = gr.GrammarRunner()\n",
    "    g_fuzzer = g.GrammarFuzzer(g.UFUNC_GRAMMAR)\n",
    "    g_fuzzer.runs(g_runner, trials=TRIALS*2, print_successful=False)\n",
    "\n",
    "    '''\n",
    "    print(\"---------------Fuzzing Book GrammarFuzzer:----------------\")\n",
    "    fpg_fuzzer = GrammarFuzzer(g.UFUNC_GRAMMAR)\n",
    "    print(fpg_fuzzer.runs(g_runner, TRIALS))\n",
    "    '''\n",
    "\n",
    "if __name__ == \"__main__\":\n",
    "    \"\"\" This is executed when run from the command line \"\"\"\n",
    "    main()\n"
   ]
  },
  {
   "cell_type": "code",
   "execution_count": null,
   "id": "a238232e-ea2e-4a9b-9ae2-c3d09defeab2",
   "metadata": {},
   "outputs": [],
   "source": []
  },
  {
   "cell_type": "code",
   "execution_count": null,
   "id": "2ac0dfd5-a906-4a94-b19d-306358ed3497",
   "metadata": {},
   "outputs": [],
   "source": []
  }
 ],
 "metadata": {
  "kernelspec": {
   "display_name": "Python 3 (ipykernel)",
   "language": "python",
   "name": "python3"
  },
  "language_info": {
   "codemirror_mode": {
    "name": "ipython",
    "version": 3
   },
   "file_extension": ".py",
   "mimetype": "text/x-python",
   "name": "python",
   "nbconvert_exporter": "python",
   "pygments_lexer": "ipython3",
   "version": "3.11.8"
  }
 },
 "nbformat": 4,
 "nbformat_minor": 5
}
