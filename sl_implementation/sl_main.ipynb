{
 "cells": [
  {
   "cell_type": "code",
   "execution_count": 1,
   "id": "94655a8b-abbb-4652-ab2a-8ce630f4bb6f",
   "metadata": {},
   "outputs": [
    {
     "name": "stdout",
     "output_type": "stream",
     "text": [
      "Fuzzed method: <ufunc 'exp'>, Result: (CompletedProcess(args=(None,), returncode=1), 'Exception: loop of ufunc does not support argument 0 of type NoneType which has no callable exp method')\n",
      "Fuzzed method: <ufunc 'log10'>, Result: (CompletedProcess(args=(None,), returncode=1), 'Exception: loop of ufunc does not support argument 0 of type NoneType which has no callable log10 method')\n",
      "Result: (CompletedProcess(args='np.matmul(np.array([89.02564288722473, 45.089429719671635, 41.491954119063244, 28.649715299585733, 36.574025280999614, 76.34468118289496, 75.01301555467663, 92.34115765626288]), np.array([34.119455891561024, 27.287006669410353, 49.2780974928646, 39.19365969154356]))', returncode=1), 'Exception: matmul: Input operand 1 has a mismatch in its core dimension 0, with gufunc signature (n?,k),(k,m?)->(n?,m?) (size 4 is different from 8)')\n",
      "Result: (CompletedProcess(args='np.matmul(np.array([8.221164314321005]), np.array([21.340831056153164, 38.866562582140496, 93.0631941063509, 72.95369734587142, 76.76458548349746]))', returncode=1), 'Exception: matmul: Input operand 1 has a mismatch in its core dimension 0, with gufunc signature (n?,k),(k,m?)->(n?,m?) (size 5 is different from 1)')\n",
      "---------------Fuzzing Book GrammarFuzzer:----------------\n",
      "[(CompletedProcess(args='np.exp(78.86)', returncode=0), 'Success: 1.7719964312302486e+34'), (CompletedProcess(args='np.matmul(np.array([74.66032765862931, 92.49044521900632]), np.array([89.07228728982604, 16.858994237579473]))', returncode=0), 'Success: 8209.462037340363'), (CompletedProcess(args='np.divide(36.59, 18)', returncode=0), 'Success: 2.032777777777778'), (CompletedProcess(args='np.add(42, 49)', returncode=0), 'Success: 91'), (CompletedProcess(args='np.multiply(11, 68)', returncode=0), 'Success: 748'), (CompletedProcess(args='np.divide(84, np.array([88.03624120700984, 49.52169850169508, 44.66845417734532, 7.772802244147048, 33.91415247832706, 42.596789408376026, 36.80315527382969]))', returncode=0), 'Success: [ 0.9541525   1.69622615  1.88052176 10.80691331  2.47684208  1.97197961\\n  2.282413  ]'), (CompletedProcess(args='np.exp(np.array([73.84395640009159, 49.567820325757395, 9.577061958521238, 77.83054530987785, 90.28752351774652, 69.19547672566036]))', returncode=0), 'Success: [1.17495920e+32 3.36535472e+21 1.44299611e+04 6.32960125e+33\\n 1.62694641e+39 1.12515852e+30]'), (CompletedProcess(args='np.add(47.16, np.array([41.866993360932746, 97.67848615400602, 71.19397653630169, 72.39141026979914, 81.87098241463237]))', returncode=0), 'Success: [ 89.02699336 144.83848615 118.35397654 119.55141027 129.03098241]'), (CompletedProcess(args='np.add(77.27, 21)', returncode=0), 'Success: 98.27'), (CompletedProcess(args='np.subtract(np.array([61.92021264686404]), 19)', returncode=0), 'Success: [42.92021265]'), (CompletedProcess(args='np.add(25.41, np.array([40.741465044040325, 73.4401202053089, 86.6361494004772, 6.9511959474151785, 0.45236438160503045, 6.748222361008571]))', returncode=0), 'Success: [ 66.15146504  98.85012021 112.0461494   32.36119595  25.86236438\\n  32.15822236]'), (CompletedProcess(args='np.subtract(51, np.array([80.28584238210743, 88.82786897972152, 35.46038667460778, 0.5341977195767567]))', returncode=0), 'Success: [-29.28584238 -37.82786898  15.53961333  50.46580228]'), (CompletedProcess(args='np.exp(35)', returncode=0), 'Success: 1586013452313430.8'), (CompletedProcess(args='np.multiply(np.array([25.33395876808505]), 85.11)', returncode=0), 'Success: [2156.17323075]'), (CompletedProcess(args='np.subtract(2.55, 97)', returncode=0), 'Success: -94.45'), (CompletedProcess(args='np.add(74, np.array([59.10022794239499, 85.47166498680734, 53.15926736306598, 7.692620122415084, 50.68130943090421, 5.900739305862846, 80.69640960931953, 3.3043089511377133, 85.79707241556302, 63.923061192879196]))', returncode=0), 'Success: [133.10022794 159.47166499 127.15926736  81.69262012 124.68130943\\n  79.90073931 154.69640961  77.30430895 159.79707242 137.92306119]'), (CompletedProcess(args='np.matmul(np.array([53.56147456163397, 29.145085936857196, 86.75294805996472]), np.array([34.119455891561024, 27.287006669410353, 49.2780974928646, 39.19365969154356]))', returncode=1), 'Exception: matmul: Input operand 1 has a mismatch in its core dimension 0, with gufunc signature (n?,k),(k,m?)->(n?,m?) (size 4 is different from 3)'), (CompletedProcess(args='np.exp(42.72)', returncode=0), 'Success: 3.573224202300419e+18'), (CompletedProcess(args='np.subtract(16.19, 11)', returncode=0), 'Success: 5.190000000000001'), (CompletedProcess(args='np.add(np.array([50.03808250429868, 63.093023644187326, 59.499892652212814, 57.14644691613763]), 50.72)', returncode=0), 'Success: [100.7580825  113.81302364 110.21989265 107.86644692]'), (CompletedProcess(args='np.multiply(np.array([19.58983520959212]), np.array([72.60673368573748, 65.5904827584302, 97.10659382400846, 46.40639788189348, 69.94681486164748, 30.760314710108283, 11.636715825525934, 80.528404402479]))', returncode=0), 'Success: [1422.35394801 1284.90674856 1902.30217078  909.09368718 1370.24657658\\n  602.58949617  227.9613454  1577.53817194]'), (CompletedProcess(args='np.exp(61.9)', returncode=0), 'Success: 7.635340860610528e+26')]\n"
     ]
    },
    {
     "name": "stderr",
     "output_type": "stream",
     "text": [
      "/home/jovyan/Software_Sec_Testing/NumpyFuzzer/sl_implementation/ValuePoolRunner.py:13: RuntimeWarning: overflow encountered in exp\n",
      "  result = self.method(*args)\n",
      "/home/jovyan/Software_Sec_Testing/NumpyFuzzer/sl_implementation/ValuePoolRunner.py:13: RuntimeWarning: divide by zero encountered in log10\n",
      "  result = self.method(*args)\n",
      "/home/jovyan/Software_Sec_Testing/NumpyFuzzer/sl_implementation/ValuePoolRunner.py:13: RuntimeWarning: invalid value encountered in log10\n",
      "  result = self.method(*args)\n"
     ]
    }
   ],
   "source": [
    "#!/usr/bin/env python3\n",
    "\"\"\"\n",
    "Module Docstring\n",
    "\"\"\"\n",
    "import numpy as np\n",
    "from fuzzingbook.GrammarFuzzer import *\n",
    "\n",
    "import ValuePoolFuzzer as v\n",
    "import GrammarFuzzer as g\n",
    "\n",
    "import ValuePoolRunner as vr\n",
    "import GrammarRunner as gr\n",
    "\n",
    "__author__ = \"Your Name\"\n",
    "__version__ = \"0.1.0\"\n",
    "__license__ = \"MIT\"\n",
    "\n",
    "\n",
    "def main():\n",
    "    TRIALS = 22\n",
    "    exp_runner = vr.ValuePoolRunner(np.exp, [any])\n",
    "    log10_runner = vr.ValuePoolRunner(np.log10, [any])\n",
    "    vp_fuzzer = v.ValuePoolFuzzer()\n",
    "    vp_fuzzer.runs(exp_runner, TRIALS, print_successful=False)\n",
    "    vp_fuzzer.runs(log10_runner, TRIALS, print_successful=False)\n",
    "\n",
    "    g_runner = gr.GrammarRunner()\n",
    "    g_fuzzer = g.GrammarFuzzer(g.UFUNC_GRAMMAR)\n",
    "    g_fuzzer.runs(g_runner, trials=TRIALS, print_successful=False)\n",
    "\n",
    "    print(\"---------------Fuzzing Book GrammarFuzzer:----------------\")\n",
    "    fpg_fuzzer = GrammarFuzzer(g.UFUNC_GRAMMAR)\n",
    "    print(fpg_fuzzer.runs(g_runner, TRIALS))\n",
    "\n",
    "if __name__ == \"__main__\":\n",
    "    \"\"\" This is executed when run from the command line \"\"\"\n",
    "    main()\n"
   ]
  },
  {
   "cell_type": "code",
   "execution_count": null,
   "id": "a238232e-ea2e-4a9b-9ae2-c3d09defeab2",
   "metadata": {},
   "outputs": [],
   "source": []
  },
  {
   "cell_type": "code",
   "execution_count": null,
   "id": "2ac0dfd5-a906-4a94-b19d-306358ed3497",
   "metadata": {},
   "outputs": [],
   "source": []
  }
 ],
 "metadata": {
  "kernelspec": {
   "display_name": "Python 3 (ipykernel)",
   "language": "python",
   "name": "python3"
  },
  "language_info": {
   "codemirror_mode": {
    "name": "ipython",
    "version": 3
   },
   "file_extension": ".py",
   "mimetype": "text/x-python",
   "name": "python",
   "nbconvert_exporter": "python",
   "pygments_lexer": "ipython3",
   "version": "3.11.8"
  }
 },
 "nbformat": 4,
 "nbformat_minor": 5
}
